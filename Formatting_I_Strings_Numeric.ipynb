{
 "cells": [
  {
   "cell_type": "markdown",
   "id": "114e2eb6",
   "metadata": {},
   "source": [
    "<center><img src=\"https://i.imgur.com/zRrFdsf.png\" width=\"700\"></center>\n",
    "\n",
    "# Data Formatting (strings and numeric)\n",
    "\n",
    "Let me clean some data sets:"
   ]
  },
  {
   "cell_type": "code",
   "execution_count": 1,
   "id": "ce709359",
   "metadata": {},
   "outputs": [],
   "source": [
    "# links to websites\n",
    "carbonLink=\"https://www.cia.gov/the-world-factbook/field/carbon-dioxide-emissions/country-comparison\" \n",
    "forestLink=\"https://www.cia.gov/the-world-factbook/field/revenue-from-forest-resources/country-comparison\" \n",
    "\n",
    "# scrapping into LIST of Dataframes\n",
    "\n",
    "import pandas as pd\n",
    "\n",
    "carbonList=pd.read_html(carbonLink,header=0,flavor='bs4')\n",
    "forestList=pd.read_html(forestLink,header=0,flavor='bs4')\n",
    "\n",
    "# getting the Dataframe from list\n",
    "carbon=carbonList[0]\n",
    "forest=forestList[0]\n",
    "\n",
    "# no spaces in column names\n",
    "carbon.columns=carbon.columns.str.replace(r'\\s','',regex=True)\n",
    "forest.columns=forest.columns.str.replace(r'\\s','',regex=True)\n",
    "\n",
    "#renaming\n",
    "newCarbonNames={'metrictonnesofCO2':'co2_tonnes','DateofInformation':'Carbon_yearData'}\n",
    "newForestNames={'%ofGDP':'ForestRevenue_PctGDP', 'DateofInformation':'Forest_yearData'}\n",
    "carbon.rename(columns=newCarbonNames,inplace=True)\n",
    "forest.rename(columns=newForestNames,inplace=True)\n",
    "\n",
    "# dropping\n",
    "toDrop=['Rank']\n",
    "carbon.drop(columns=toDrop,inplace=True)\n",
    "forest.drop(columns=toDrop,inplace=True)\n",
    "\n",
    "# no spaces in string values (to several columns)\n",
    "byeSpaces=lambda x: x.str.strip()\n",
    "carbon.iloc[:,[0,2]]=carbon.iloc[:,[0,2]].apply(byeSpaces)\n",
    "forest.iloc[:,[0,2]]=forest.iloc[:,[0,2]].apply(byeSpaces)\n",
    "\n",
    "# keeping year\n",
    "carbon.Carbon_yearData=carbon.Carbon_yearData.str. extract(pat=r'(\\d+)')\n",
    "forest.Forest_yearData=forest.Forest_yearData.str. extract(pat=r'(\\d+)')"
   ]
  },
  {
   "cell_type": "markdown",
   "id": "01c5d1e3",
   "metadata": {},
   "source": [
    "Verifying year:"
   ]
  },
  {
   "cell_type": "code",
   "execution_count": 2,
   "id": "edf6fdde",
   "metadata": {},
   "outputs": [
    {
     "data": {
      "text/html": [
       "<div>\n",
       "<style scoped>\n",
       "    .dataframe tbody tr th:only-of-type {\n",
       "        vertical-align: middle;\n",
       "    }\n",
       "\n",
       "    .dataframe tbody tr th {\n",
       "        vertical-align: top;\n",
       "    }\n",
       "\n",
       "    .dataframe thead th {\n",
       "        text-align: right;\n",
       "    }\n",
       "</style>\n",
       "<table border=\"1\" class=\"dataframe\">\n",
       "  <thead>\n",
       "    <tr style=\"text-align: right;\">\n",
       "      <th></th>\n",
       "      <th>Country</th>\n",
       "      <th>ForestRevenue_PctGDP</th>\n",
       "      <th>Forest_yearData</th>\n",
       "    </tr>\n",
       "  </thead>\n",
       "  <tbody>\n",
       "  </tbody>\n",
       "</table>\n",
       "</div>"
      ],
      "text/plain": [
       "Empty DataFrame\n",
       "Columns: [Country, ForestRevenue_PctGDP, Forest_yearData]\n",
       "Index: []"
      ]
     },
     "execution_count": 2,
     "metadata": {},
     "output_type": "execute_result"
    }
   ],
   "source": [
    "forest[forest.Forest_yearData.str.contains(r'\\D')]"
   ]
  },
  {
   "cell_type": "code",
   "execution_count": 3,
   "id": "3dc81def",
   "metadata": {},
   "outputs": [
    {
     "data": {
      "text/html": [
       "<div>\n",
       "<style scoped>\n",
       "    .dataframe tbody tr th:only-of-type {\n",
       "        vertical-align: middle;\n",
       "    }\n",
       "\n",
       "    .dataframe tbody tr th {\n",
       "        vertical-align: top;\n",
       "    }\n",
       "\n",
       "    .dataframe thead th {\n",
       "        text-align: right;\n",
       "    }\n",
       "</style>\n",
       "<table border=\"1\" class=\"dataframe\">\n",
       "  <thead>\n",
       "    <tr style=\"text-align: right;\">\n",
       "      <th></th>\n",
       "      <th>Country</th>\n",
       "      <th>co2_tonnes</th>\n",
       "      <th>Carbon_yearData</th>\n",
       "    </tr>\n",
       "  </thead>\n",
       "  <tbody>\n",
       "  </tbody>\n",
       "</table>\n",
       "</div>"
      ],
      "text/plain": [
       "Empty DataFrame\n",
       "Columns: [Country, co2_tonnes, Carbon_yearData]\n",
       "Index: []"
      ]
     },
     "execution_count": 3,
     "metadata": {},
     "output_type": "execute_result"
    }
   ],
   "source": [
    "carbon[carbon.Carbon_yearData.str.contains(r'\\D')]"
   ]
  },
  {
   "cell_type": "markdown",
   "id": "04586061",
   "metadata": {},
   "source": [
    "**Before** starting formatting we check the data types:"
   ]
  },
  {
   "cell_type": "code",
   "execution_count": 4,
   "id": "85a29812",
   "metadata": {},
   "outputs": [
    {
     "name": "stdout",
     "output_type": "stream",
     "text": [
      "<class 'pandas.core.frame.DataFrame'>\n",
      "RangeIndex: 204 entries, 0 to 203\n",
      "Data columns (total 3 columns):\n",
      " #   Column                Non-Null Count  Dtype  \n",
      "---  ------                --------------  -----  \n",
      " 0   Country               204 non-null    object \n",
      " 1   ForestRevenue_PctGDP  204 non-null    float64\n",
      " 2   Forest_yearData       204 non-null    object \n",
      "dtypes: float64(1), object(2)\n",
      "memory usage: 4.9+ KB\n"
     ]
    }
   ],
   "source": [
    "forest.info()"
   ]
  },
  {
   "cell_type": "code",
   "execution_count": 5,
   "id": "75cf5bad",
   "metadata": {},
   "outputs": [
    {
     "name": "stdout",
     "output_type": "stream",
     "text": [
      "<class 'pandas.core.frame.DataFrame'>\n",
      "RangeIndex: 218 entries, 0 to 217\n",
      "Data columns (total 3 columns):\n",
      " #   Column           Non-Null Count  Dtype \n",
      "---  ------           --------------  ----- \n",
      " 0   Country          218 non-null    object\n",
      " 1   co2_tonnes       218 non-null    int64 \n",
      " 2   Carbon_yearData  218 non-null    object\n",
      "dtypes: int64(1), object(2)\n",
      "memory usage: 5.2+ KB\n"
     ]
    }
   ],
   "source": [
    "carbon.info()"
   ]
  },
  {
   "cell_type": "markdown",
   "id": "48c61d43",
   "metadata": {},
   "source": [
    "# String case"
   ]
  },
  {
   "cell_type": "markdown",
   "id": "d9224a35",
   "metadata": {},
   "source": [
    "This is our string column"
   ]
  },
  {
   "cell_type": "code",
   "execution_count": 6,
   "id": "bc3b2c61",
   "metadata": {},
   "outputs": [
    {
     "data": {
      "text/plain": [
       "0                                              China\n",
       "1                                      United States\n",
       "2                                              India\n",
       "3                                             Russia\n",
       "4                                              Japan\n",
       "                           ...                      \n",
       "213                                       Antarctica\n",
       "214    Saint Helena, Ascension, and Tristan da Cunha\n",
       "215                                             Niue\n",
       "216                         Northern Mariana Islands\n",
       "217                                           Tuvalu\n",
       "Name: Country, Length: 218, dtype: object"
      ]
     },
     "execution_count": 6,
     "metadata": {},
     "output_type": "execute_result"
    }
   ],
   "source": [
    "carbon.Country"
   ]
  },
  {
   "cell_type": "code",
   "execution_count": 7,
   "id": "882f3d99",
   "metadata": {},
   "outputs": [
    {
     "data": {
      "text/html": [
       "<div>\n",
       "<style scoped>\n",
       "    .dataframe tbody tr th:only-of-type {\n",
       "        vertical-align: middle;\n",
       "    }\n",
       "\n",
       "    .dataframe tbody tr th {\n",
       "        vertical-align: top;\n",
       "    }\n",
       "\n",
       "    .dataframe thead th {\n",
       "        text-align: right;\n",
       "    }\n",
       "</style>\n",
       "<table border=\"1\" class=\"dataframe\">\n",
       "  <thead>\n",
       "    <tr style=\"text-align: right;\">\n",
       "      <th></th>\n",
       "      <th>Country</th>\n",
       "      <th>co2_tonnes</th>\n",
       "      <th>Carbon_yearData</th>\n",
       "    </tr>\n",
       "  </thead>\n",
       "  <tbody>\n",
       "  </tbody>\n",
       "</table>\n",
       "</div>"
      ],
      "text/plain": [
       "Empty DataFrame\n",
       "Columns: [Country, co2_tonnes, Carbon_yearData]\n",
       "Index: []"
      ]
     },
     "execution_count": 7,
     "metadata": {},
     "output_type": "execute_result"
    }
   ],
   "source": [
    "# do we have duplicates?\n",
    "carbon[carbon.duplicated(subset='Country')]"
   ]
  },
  {
   "cell_type": "code",
   "execution_count": 8,
   "id": "f3b72da5",
   "metadata": {},
   "outputs": [
    {
     "data": {
      "text/html": [
       "<div>\n",
       "<style scoped>\n",
       "    .dataframe tbody tr th:only-of-type {\n",
       "        vertical-align: middle;\n",
       "    }\n",
       "\n",
       "    .dataframe tbody tr th {\n",
       "        vertical-align: top;\n",
       "    }\n",
       "\n",
       "    .dataframe thead th {\n",
       "        text-align: right;\n",
       "    }\n",
       "</style>\n",
       "<table border=\"1\" class=\"dataframe\">\n",
       "  <thead>\n",
       "    <tr style=\"text-align: right;\">\n",
       "      <th></th>\n",
       "      <th>Country</th>\n",
       "      <th>co2_tonnes</th>\n",
       "      <th>Carbon_yearData</th>\n",
       "    </tr>\n",
       "  </thead>\n",
       "  <tbody>\n",
       "    <tr>\n",
       "      <th>6</th>\n",
       "      <td>Korea, South</td>\n",
       "      <td>686954000</td>\n",
       "      <td>2019</td>\n",
       "    </tr>\n",
       "    <tr>\n",
       "      <th>16</th>\n",
       "      <td>Turkey (Turkiye)</td>\n",
       "      <td>391792000</td>\n",
       "      <td>2019</td>\n",
       "    </tr>\n",
       "    <tr>\n",
       "      <th>86</th>\n",
       "      <td>Korea, North</td>\n",
       "      <td>18465000</td>\n",
       "      <td>2019</td>\n",
       "    </tr>\n",
       "    <tr>\n",
       "      <th>99</th>\n",
       "      <td>Cote d'Ivoire</td>\n",
       "      <td>11880000</td>\n",
       "      <td>2019</td>\n",
       "    </tr>\n",
       "    <tr>\n",
       "      <th>137</th>\n",
       "      <td>Congo, Republic of the</td>\n",
       "      <td>4523000</td>\n",
       "      <td>2019</td>\n",
       "    </tr>\n",
       "    <tr>\n",
       "      <th>141</th>\n",
       "      <td>Bahamas, The</td>\n",
       "      <td>3984000</td>\n",
       "      <td>2019</td>\n",
       "    </tr>\n",
       "    <tr>\n",
       "      <th>150</th>\n",
       "      <td>Congo, Democratic Republic of the</td>\n",
       "      <td>2653000</td>\n",
       "      <td>2019</td>\n",
       "    </tr>\n",
       "    <tr>\n",
       "      <th>185</th>\n",
       "      <td>Gambia, The</td>\n",
       "      <td>606000</td>\n",
       "      <td>2019</td>\n",
       "    </tr>\n",
       "    <tr>\n",
       "      <th>188</th>\n",
       "      <td>Timor-Leste</td>\n",
       "      <td>538000</td>\n",
       "      <td>2019</td>\n",
       "    </tr>\n",
       "    <tr>\n",
       "      <th>192</th>\n",
       "      <td>Guinea-Bissau</td>\n",
       "      <td>342000</td>\n",
       "      <td>2019</td>\n",
       "    </tr>\n",
       "    <tr>\n",
       "      <th>203</th>\n",
       "      <td>Micronesia, Federated States of</td>\n",
       "      <td>177000</td>\n",
       "      <td>2019</td>\n",
       "    </tr>\n",
       "    <tr>\n",
       "      <th>211</th>\n",
       "      <td>Falkland Islands (Islas Malvinas)</td>\n",
       "      <td>46000</td>\n",
       "      <td>2019</td>\n",
       "    </tr>\n",
       "    <tr>\n",
       "      <th>214</th>\n",
       "      <td>Saint Helena, Ascension, and Tristan da Cunha</td>\n",
       "      <td>13000</td>\n",
       "      <td>2019</td>\n",
       "    </tr>\n",
       "  </tbody>\n",
       "</table>\n",
       "</div>"
      ],
      "text/plain": [
       "                                           Country  co2_tonnes Carbon_yearData\n",
       "6                                     Korea, South   686954000            2019\n",
       "16                                Turkey (Turkiye)   391792000            2019\n",
       "86                                    Korea, North    18465000            2019\n",
       "99                                   Cote d'Ivoire    11880000            2019\n",
       "137                         Congo, Republic of the     4523000            2019\n",
       "141                                   Bahamas, The     3984000            2019\n",
       "150              Congo, Democratic Republic of the     2653000            2019\n",
       "185                                    Gambia, The      606000            2019\n",
       "188                                    Timor-Leste      538000            2019\n",
       "192                                  Guinea-Bissau      342000            2019\n",
       "203                Micronesia, Federated States of      177000            2019\n",
       "211              Falkland Islands (Islas Malvinas)       46000            2019\n",
       "214  Saint Helena, Ascension, and Tristan da Cunha       13000            2019"
      ]
     },
     "execution_count": 8,
     "metadata": {},
     "output_type": "execute_result"
    }
   ],
   "source": [
    "# do we have weird symbols?\n",
    "carbon[carbon.Country.str.contains(r'[^\\w\\s]')]"
   ]
  },
  {
   "cell_type": "code",
   "execution_count": 9,
   "id": "c8af499a",
   "metadata": {},
   "outputs": [
    {
     "data": {
      "text/html": [
       "<div>\n",
       "<style scoped>\n",
       "    .dataframe tbody tr th:only-of-type {\n",
       "        vertical-align: middle;\n",
       "    }\n",
       "\n",
       "    .dataframe tbody tr th {\n",
       "        vertical-align: top;\n",
       "    }\n",
       "\n",
       "    .dataframe thead th {\n",
       "        text-align: right;\n",
       "    }\n",
       "</style>\n",
       "<table border=\"1\" class=\"dataframe\">\n",
       "  <thead>\n",
       "    <tr style=\"text-align: right;\">\n",
       "      <th></th>\n",
       "      <th>Country</th>\n",
       "      <th>co2_tonnes</th>\n",
       "      <th>Carbon_yearData</th>\n",
       "    </tr>\n",
       "  </thead>\n",
       "  <tbody>\n",
       "    <tr>\n",
       "      <th>99</th>\n",
       "      <td>Cote d'Ivoire</td>\n",
       "      <td>11880000</td>\n",
       "      <td>2019</td>\n",
       "    </tr>\n",
       "  </tbody>\n",
       "</table>\n",
       "</div>"
      ],
      "text/plain": [
       "          Country  co2_tonnes Carbon_yearData\n",
       "99  Cote d'Ivoire    11880000            2019"
      ]
     },
     "execution_count": 9,
     "metadata": {},
     "output_type": "execute_result"
    }
   ],
   "source": [
    "# accents in words:\n",
    "carbon[carbon.Country.str.contains(r\"\\w*[\\u00C0-\\u01DA']\\w*\")]"
   ]
  },
  {
   "cell_type": "code",
   "execution_count": 10,
   "id": "1d86708c",
   "metadata": {},
   "outputs": [
    {
     "ename": "ModuleNotFoundError",
     "evalue": "No module named 'unidecode'",
     "output_type": "error",
     "traceback": [
      "\u001b[1;31m---------------------------------------------------------------------------\u001b[0m",
      "\u001b[1;31mModuleNotFoundError\u001b[0m                       Traceback (most recent call last)",
      "Cell \u001b[1;32mIn[10], line 2\u001b[0m\n\u001b[0;32m      1\u001b[0m \u001b[38;5;66;03m# only ascii\u001b[39;00m\n\u001b[1;32m----> 2\u001b[0m \u001b[38;5;28;01mfrom\u001b[39;00m \u001b[38;5;21;01munidecode\u001b[39;00m \u001b[38;5;28;01mimport\u001b[39;00m unidecode\n\u001b[0;32m      4\u001b[0m carbon[\u001b[38;5;124m'\u001b[39m\u001b[38;5;124mCountry\u001b[39m\u001b[38;5;124m'\u001b[39m]\u001b[38;5;241m=\u001b[39mcarbon\u001b[38;5;241m.\u001b[39mCountry\u001b[38;5;241m.\u001b[39mapply(unidecode)\n\u001b[0;32m      5\u001b[0m forest[\u001b[38;5;124m'\u001b[39m\u001b[38;5;124mCountry\u001b[39m\u001b[38;5;124m'\u001b[39m]\u001b[38;5;241m=\u001b[39mforest\u001b[38;5;241m.\u001b[39mCountry\u001b[38;5;241m.\u001b[39mapply(unidecode)\n",
      "\u001b[1;31mModuleNotFoundError\u001b[0m: No module named 'unidecode'"
     ]
    }
   ],
   "source": [
    "# only ascii\n",
    "from unidecode import unidecode\n",
    "\n",
    "carbon['Country']=carbon.Country.apply(unidecode)\n",
    "forest['Country']=forest.Country.apply(unidecode)"
   ]
  },
  {
   "cell_type": "markdown",
   "id": "18837c55",
   "metadata": {},
   "source": [
    "The capitalization is an important step, it may help in later stages when merging data frames:\n",
    "\n",
    "* str.lower(): all to lowercase.\n",
    "\n",
    "* str.upper(): ALL TO UPPERCASE.\n",
    "\n",
    "* str.title(): First Character Of Each Word To Uppercase. \n",
    "\n",
    "* str.capitalize(): First character to uppercase and remaining to lowercase.\n",
    "\n",
    "**You can only apply this if the cells are strings.**\n",
    "\n",
    "Let's do it:"
   ]
  },
  {
   "cell_type": "code",
   "execution_count": null,
   "id": "3c9f6b40",
   "metadata": {},
   "outputs": [],
   "source": [
    "carbon_test=carbon.copy()\n",
    "carbon_test['countryname']=carbon_test.Country.str.lower()\n",
    "carbon_test['COUNTRYNAME']=carbon_test.Country.str.upper()\n",
    "carbon_test['CountryName']=carbon_test.Country.str.title()\n",
    "carbon_test"
   ]
  },
  {
   "cell_type": "code",
   "execution_count": 11,
   "id": "e0a681ee",
   "metadata": {},
   "outputs": [],
   "source": [
    "#Let's keep the upper case\n",
    "carbon['Country']=carbon.Country.str.upper()\n",
    "forest['Country']=forest.Country.str.upper()"
   ]
  },
  {
   "cell_type": "code",
   "execution_count": null,
   "id": "c63c9097",
   "metadata": {},
   "outputs": [],
   "source": [
    "#el problema del data es"
   ]
  },
  {
   "cell_type": "code",
   "execution_count": 12,
   "id": "45a5dc73",
   "metadata": {},
   "outputs": [
    {
     "ename": "OSError",
     "evalue": "Cannot save file into a non-existent directory: 'data'",
     "output_type": "error",
     "traceback": [
      "\u001b[1;31m---------------------------------------------------------------------------\u001b[0m",
      "\u001b[1;31mOSError\u001b[0m                                   Traceback (most recent call last)",
      "Cell \u001b[1;32mIn[12], line 4\u001b[0m\n\u001b[0;32m      1\u001b[0m \u001b[38;5;66;03m# we can save this:\u001b[39;00m\n\u001b[0;32m      2\u001b[0m \u001b[38;5;28;01mimport\u001b[39;00m \u001b[38;5;21;01mos\u001b[39;00m\n\u001b[1;32m----> 4\u001b[0m carbon\u001b[38;5;241m.\u001b[39mto_csv(os\u001b[38;5;241m.\u001b[39mpath\u001b[38;5;241m.\u001b[39mjoin(\u001b[38;5;124m\"\u001b[39m\u001b[38;5;124mdata\u001b[39m\u001b[38;5;124m\"\u001b[39m,\u001b[38;5;124m\"\u001b[39m\u001b[38;5;124mcarbon_formatted.csv\u001b[39m\u001b[38;5;124m\"\u001b[39m),index\u001b[38;5;241m=\u001b[39m\u001b[38;5;28;01mFalse\u001b[39;00m)\n\u001b[0;32m      5\u001b[0m forest\u001b[38;5;241m.\u001b[39mto_csv(os\u001b[38;5;241m.\u001b[39mpath\u001b[38;5;241m.\u001b[39mjoin(\u001b[38;5;124m\"\u001b[39m\u001b[38;5;124mdata\u001b[39m\u001b[38;5;124m\"\u001b[39m,\u001b[38;5;124m\"\u001b[39m\u001b[38;5;124mforest_formatted.csv\u001b[39m\u001b[38;5;124m\"\u001b[39m),index\u001b[38;5;241m=\u001b[39m\u001b[38;5;28;01mFalse\u001b[39;00m)\n",
      "File \u001b[1;32m~\\anaconda3\\envs\\SDS_20232_ENRIQUE\\Lib\\site-packages\\pandas\\core\\generic.py:3772\u001b[0m, in \u001b[0;36mNDFrame.to_csv\u001b[1;34m(self, path_or_buf, sep, na_rep, float_format, columns, header, index, index_label, mode, encoding, compression, quoting, quotechar, lineterminator, chunksize, date_format, doublequote, escapechar, decimal, errors, storage_options)\u001b[0m\n\u001b[0;32m   3761\u001b[0m df \u001b[38;5;241m=\u001b[39m \u001b[38;5;28mself\u001b[39m \u001b[38;5;28;01mif\u001b[39;00m \u001b[38;5;28misinstance\u001b[39m(\u001b[38;5;28mself\u001b[39m, ABCDataFrame) \u001b[38;5;28;01melse\u001b[39;00m \u001b[38;5;28mself\u001b[39m\u001b[38;5;241m.\u001b[39mto_frame()\n\u001b[0;32m   3763\u001b[0m formatter \u001b[38;5;241m=\u001b[39m DataFrameFormatter(\n\u001b[0;32m   3764\u001b[0m     frame\u001b[38;5;241m=\u001b[39mdf,\n\u001b[0;32m   3765\u001b[0m     header\u001b[38;5;241m=\u001b[39mheader,\n\u001b[1;32m   (...)\u001b[0m\n\u001b[0;32m   3769\u001b[0m     decimal\u001b[38;5;241m=\u001b[39mdecimal,\n\u001b[0;32m   3770\u001b[0m )\n\u001b[1;32m-> 3772\u001b[0m \u001b[38;5;28;01mreturn\u001b[39;00m DataFrameRenderer(formatter)\u001b[38;5;241m.\u001b[39mto_csv(\n\u001b[0;32m   3773\u001b[0m     path_or_buf,\n\u001b[0;32m   3774\u001b[0m     lineterminator\u001b[38;5;241m=\u001b[39mlineterminator,\n\u001b[0;32m   3775\u001b[0m     sep\u001b[38;5;241m=\u001b[39msep,\n\u001b[0;32m   3776\u001b[0m     encoding\u001b[38;5;241m=\u001b[39mencoding,\n\u001b[0;32m   3777\u001b[0m     errors\u001b[38;5;241m=\u001b[39merrors,\n\u001b[0;32m   3778\u001b[0m     compression\u001b[38;5;241m=\u001b[39mcompression,\n\u001b[0;32m   3779\u001b[0m     quoting\u001b[38;5;241m=\u001b[39mquoting,\n\u001b[0;32m   3780\u001b[0m     columns\u001b[38;5;241m=\u001b[39mcolumns,\n\u001b[0;32m   3781\u001b[0m     index_label\u001b[38;5;241m=\u001b[39mindex_label,\n\u001b[0;32m   3782\u001b[0m     mode\u001b[38;5;241m=\u001b[39mmode,\n\u001b[0;32m   3783\u001b[0m     chunksize\u001b[38;5;241m=\u001b[39mchunksize,\n\u001b[0;32m   3784\u001b[0m     quotechar\u001b[38;5;241m=\u001b[39mquotechar,\n\u001b[0;32m   3785\u001b[0m     date_format\u001b[38;5;241m=\u001b[39mdate_format,\n\u001b[0;32m   3786\u001b[0m     doublequote\u001b[38;5;241m=\u001b[39mdoublequote,\n\u001b[0;32m   3787\u001b[0m     escapechar\u001b[38;5;241m=\u001b[39mescapechar,\n\u001b[0;32m   3788\u001b[0m     storage_options\u001b[38;5;241m=\u001b[39mstorage_options,\n\u001b[0;32m   3789\u001b[0m )\n",
      "File \u001b[1;32m~\\anaconda3\\envs\\SDS_20232_ENRIQUE\\Lib\\site-packages\\pandas\\io\\formats\\format.py:1186\u001b[0m, in \u001b[0;36mDataFrameRenderer.to_csv\u001b[1;34m(self, path_or_buf, encoding, sep, columns, index_label, mode, compression, quoting, quotechar, lineterminator, chunksize, date_format, doublequote, escapechar, errors, storage_options)\u001b[0m\n\u001b[0;32m   1165\u001b[0m     created_buffer \u001b[38;5;241m=\u001b[39m \u001b[38;5;28;01mFalse\u001b[39;00m\n\u001b[0;32m   1167\u001b[0m csv_formatter \u001b[38;5;241m=\u001b[39m CSVFormatter(\n\u001b[0;32m   1168\u001b[0m     path_or_buf\u001b[38;5;241m=\u001b[39mpath_or_buf,\n\u001b[0;32m   1169\u001b[0m     lineterminator\u001b[38;5;241m=\u001b[39mlineterminator,\n\u001b[1;32m   (...)\u001b[0m\n\u001b[0;32m   1184\u001b[0m     formatter\u001b[38;5;241m=\u001b[39m\u001b[38;5;28mself\u001b[39m\u001b[38;5;241m.\u001b[39mfmt,\n\u001b[0;32m   1185\u001b[0m )\n\u001b[1;32m-> 1186\u001b[0m csv_formatter\u001b[38;5;241m.\u001b[39msave()\n\u001b[0;32m   1188\u001b[0m \u001b[38;5;28;01mif\u001b[39;00m created_buffer:\n\u001b[0;32m   1189\u001b[0m     \u001b[38;5;28;01massert\u001b[39;00m \u001b[38;5;28misinstance\u001b[39m(path_or_buf, StringIO)\n",
      "File \u001b[1;32m~\\anaconda3\\envs\\SDS_20232_ENRIQUE\\Lib\\site-packages\\pandas\\io\\formats\\csvs.py:240\u001b[0m, in \u001b[0;36mCSVFormatter.save\u001b[1;34m(self)\u001b[0m\n\u001b[0;32m    236\u001b[0m \u001b[38;5;250m\u001b[39m\u001b[38;5;124;03m\"\"\"\u001b[39;00m\n\u001b[0;32m    237\u001b[0m \u001b[38;5;124;03mCreate the writer & save.\u001b[39;00m\n\u001b[0;32m    238\u001b[0m \u001b[38;5;124;03m\"\"\"\u001b[39;00m\n\u001b[0;32m    239\u001b[0m \u001b[38;5;66;03m# apply compression and byte/text conversion\u001b[39;00m\n\u001b[1;32m--> 240\u001b[0m \u001b[38;5;28;01mwith\u001b[39;00m get_handle(\n\u001b[0;32m    241\u001b[0m     \u001b[38;5;28mself\u001b[39m\u001b[38;5;241m.\u001b[39mfilepath_or_buffer,\n\u001b[0;32m    242\u001b[0m     \u001b[38;5;28mself\u001b[39m\u001b[38;5;241m.\u001b[39mmode,\n\u001b[0;32m    243\u001b[0m     encoding\u001b[38;5;241m=\u001b[39m\u001b[38;5;28mself\u001b[39m\u001b[38;5;241m.\u001b[39mencoding,\n\u001b[0;32m    244\u001b[0m     errors\u001b[38;5;241m=\u001b[39m\u001b[38;5;28mself\u001b[39m\u001b[38;5;241m.\u001b[39merrors,\n\u001b[0;32m    245\u001b[0m     compression\u001b[38;5;241m=\u001b[39m\u001b[38;5;28mself\u001b[39m\u001b[38;5;241m.\u001b[39mcompression,\n\u001b[0;32m    246\u001b[0m     storage_options\u001b[38;5;241m=\u001b[39m\u001b[38;5;28mself\u001b[39m\u001b[38;5;241m.\u001b[39mstorage_options,\n\u001b[0;32m    247\u001b[0m ) \u001b[38;5;28;01mas\u001b[39;00m handles:\n\u001b[0;32m    248\u001b[0m     \u001b[38;5;66;03m# Note: self.encoding is irrelevant here\u001b[39;00m\n\u001b[0;32m    249\u001b[0m     \u001b[38;5;28mself\u001b[39m\u001b[38;5;241m.\u001b[39mwriter \u001b[38;5;241m=\u001b[39m csvlib\u001b[38;5;241m.\u001b[39mwriter(\n\u001b[0;32m    250\u001b[0m         handles\u001b[38;5;241m.\u001b[39mhandle,\n\u001b[0;32m    251\u001b[0m         lineterminator\u001b[38;5;241m=\u001b[39m\u001b[38;5;28mself\u001b[39m\u001b[38;5;241m.\u001b[39mlineterminator,\n\u001b[1;32m   (...)\u001b[0m\n\u001b[0;32m    256\u001b[0m         quotechar\u001b[38;5;241m=\u001b[39m\u001b[38;5;28mself\u001b[39m\u001b[38;5;241m.\u001b[39mquotechar,\n\u001b[0;32m    257\u001b[0m     )\n\u001b[0;32m    259\u001b[0m     \u001b[38;5;28mself\u001b[39m\u001b[38;5;241m.\u001b[39m_save()\n",
      "File \u001b[1;32m~\\anaconda3\\envs\\SDS_20232_ENRIQUE\\Lib\\site-packages\\pandas\\io\\common.py:737\u001b[0m, in \u001b[0;36mget_handle\u001b[1;34m(path_or_buf, mode, encoding, compression, memory_map, is_text, errors, storage_options)\u001b[0m\n\u001b[0;32m    735\u001b[0m \u001b[38;5;66;03m# Only for write methods\u001b[39;00m\n\u001b[0;32m    736\u001b[0m \u001b[38;5;28;01mif\u001b[39;00m \u001b[38;5;124m\"\u001b[39m\u001b[38;5;124mr\u001b[39m\u001b[38;5;124m\"\u001b[39m \u001b[38;5;129;01mnot\u001b[39;00m \u001b[38;5;129;01min\u001b[39;00m mode \u001b[38;5;129;01mand\u001b[39;00m is_path:\n\u001b[1;32m--> 737\u001b[0m     check_parent_directory(\u001b[38;5;28mstr\u001b[39m(handle))\n\u001b[0;32m    739\u001b[0m \u001b[38;5;28;01mif\u001b[39;00m compression:\n\u001b[0;32m    740\u001b[0m     \u001b[38;5;28;01mif\u001b[39;00m compression \u001b[38;5;241m!=\u001b[39m \u001b[38;5;124m\"\u001b[39m\u001b[38;5;124mzstd\u001b[39m\u001b[38;5;124m\"\u001b[39m:\n\u001b[0;32m    741\u001b[0m         \u001b[38;5;66;03m# compression libraries do not like an explicit text-mode\u001b[39;00m\n",
      "File \u001b[1;32m~\\anaconda3\\envs\\SDS_20232_ENRIQUE\\Lib\\site-packages\\pandas\\io\\common.py:600\u001b[0m, in \u001b[0;36mcheck_parent_directory\u001b[1;34m(path)\u001b[0m\n\u001b[0;32m    598\u001b[0m parent \u001b[38;5;241m=\u001b[39m Path(path)\u001b[38;5;241m.\u001b[39mparent\n\u001b[0;32m    599\u001b[0m \u001b[38;5;28;01mif\u001b[39;00m \u001b[38;5;129;01mnot\u001b[39;00m parent\u001b[38;5;241m.\u001b[39mis_dir():\n\u001b[1;32m--> 600\u001b[0m     \u001b[38;5;28;01mraise\u001b[39;00m \u001b[38;5;167;01mOSError\u001b[39;00m(\u001b[38;5;124mrf\u001b[39m\u001b[38;5;124m\"\u001b[39m\u001b[38;5;124mCannot save file into a non-existent directory: \u001b[39m\u001b[38;5;124m'\u001b[39m\u001b[38;5;132;01m{\u001b[39;00mparent\u001b[38;5;132;01m}\u001b[39;00m\u001b[38;5;124m'\u001b[39m\u001b[38;5;124m\"\u001b[39m)\n",
      "\u001b[1;31mOSError\u001b[0m: Cannot save file into a non-existent directory: 'data'"
     ]
    }
   ],
   "source": [
    "# we can save this:\n",
    "import os\n",
    "\n",
    "carbon.to_csv(os.path.join(\"data\",\"carbon_formatted.csv\"),index=False)\n",
    "forest.to_csv(os.path.join(\"data\",\"forest_formatted.csv\"),index=False)"
   ]
  },
  {
   "cell_type": "markdown",
   "id": "08275df0",
   "metadata": {},
   "source": [
    "# Numeric case"
   ]
  },
  {
   "cell_type": "markdown",
   "id": "3870449f",
   "metadata": {},
   "source": [
    "If numeric data **looks** good, but the computernhas not recognised it as a number we are still in trouble:"
   ]
  },
  {
   "cell_type": "code",
   "execution_count": null,
   "id": "88f797a0",
   "metadata": {},
   "outputs": [],
   "source": [
    "#looks good\n",
    "carbon.Carbon_yearData"
   ]
  },
  {
   "cell_type": "code",
   "execution_count": null,
   "id": "0c5700d0",
   "metadata": {},
   "outputs": [],
   "source": [
    "# not numeric data\n",
    "carbon.Carbon_yearData.info()"
   ]
  },
  {
   "cell_type": "code",
   "execution_count": null,
   "id": "837324ef",
   "metadata": {},
   "outputs": [],
   "source": [
    "# see ONE element\n",
    "carbon.Carbon_yearData[0]"
   ]
  },
  {
   "cell_type": "markdown",
   "id": "6f33e9ed",
   "metadata": {},
   "source": [
    "You can not get any **expected** statistics if the values are not recognised as numeric:"
   ]
  },
  {
   "cell_type": "code",
   "execution_count": null,
   "id": "ec20d23f",
   "metadata": {},
   "outputs": [],
   "source": [
    "carbon.Carbon_yearData.describe()"
   ]
  },
  {
   "cell_type": "markdown",
   "id": "046c3671",
   "metadata": {},
   "source": [
    "The easiest way is to use the **pd.to_numeric** function in pandas:"
   ]
  },
  {
   "cell_type": "code",
   "execution_count": null,
   "id": "89e11f37",
   "metadata": {},
   "outputs": [],
   "source": [
    "# now you get stats for numeric data\n",
    "pd.to_numeric(carbon.Carbon_yearData).describe()"
   ]
  },
  {
   "cell_type": "markdown",
   "id": "b92c1374",
   "metadata": {},
   "source": [
    "Then:"
   ]
  },
  {
   "cell_type": "code",
   "execution_count": null,
   "id": "db9c2dba",
   "metadata": {},
   "outputs": [],
   "source": [
    "carbon['Carbon_yearData']=pd.to_numeric(carbon.Carbon_yearData)\n",
    "carbon.info()"
   ]
  },
  {
   "cell_type": "code",
   "execution_count": null,
   "id": "5a04b0d2",
   "metadata": {},
   "outputs": [],
   "source": [
    "forest['Forest_yearData']=pd.to_numeric(forest.Forest_yearData)\n",
    "forest.info()"
   ]
  },
  {
   "cell_type": "markdown",
   "id": "12ea88a5",
   "metadata": {},
   "source": [
    "Let's overwrite our previous files"
   ]
  },
  {
   "cell_type": "code",
   "execution_count": null,
   "id": "5be057ee",
   "metadata": {},
   "outputs": [],
   "source": [
    "carbon.to_csv(os.path.join(\"data\",\"carbon_formatted.csv\"),index=False)\n",
    "forest.to_csv(os.path.join(\"data\",\"forest_formatted.csv\"),index=False)"
   ]
  },
  {
   "cell_type": "markdown",
   "id": "012b3763",
   "metadata": {},
   "source": [
    "Notice that this works only if the column has already been cleaned:"
   ]
  },
  {
   "cell_type": "code",
   "execution_count": null,
   "id": "c459e828",
   "metadata": {},
   "outputs": [],
   "source": [
    "# a list of values\n",
    "listValues=[1,2,3,4,'5','x']\n",
    "dictValues={'someVals':listValues}\n",
    "# a series\n",
    "aDataFrame=pd.DataFrame(dictValues)\n",
    "\n",
    "aDataFrame"
   ]
  },
  {
   "cell_type": "code",
   "execution_count": null,
   "id": "a00f010b",
   "metadata": {},
   "outputs": [],
   "source": [
    "pd.to_numeric(aDataFrame.someVals)"
   ]
  },
  {
   "cell_type": "code",
   "execution_count": null,
   "id": "5e14cedd",
   "metadata": {},
   "outputs": [],
   "source": [
    "pd.to_numeric(aDataFrame.someVals,errors='coerce')"
   ]
  },
  {
   "cell_type": "code",
   "execution_count": null,
   "id": "1dce516d",
   "metadata": {},
   "outputs": [],
   "source": [
    "pd.to_numeric(aDataFrame.someVals,errors='ignore')"
   ]
  },
  {
   "cell_type": "markdown",
   "id": "3d9d0f2f",
   "metadata": {},
   "source": [
    "In this case, the **coerce** argument would be the best choice."
   ]
  },
  {
   "cell_type": "code",
   "execution_count": null,
   "id": "a106adc9",
   "metadata": {},
   "outputs": [],
   "source": []
  }
 ],
 "metadata": {
  "kernelspec": {
   "display_name": "Python 3 (ipykernel)",
   "language": "python",
   "name": "python3"
  },
  "language_info": {
   "codemirror_mode": {
    "name": "ipython",
    "version": 3
   },
   "file_extension": ".py",
   "mimetype": "text/x-python",
   "name": "python",
   "nbconvert_exporter": "python",
   "pygments_lexer": "ipython3",
   "version": "3.11.4"
  }
 },
 "nbformat": 4,
 "nbformat_minor": 5
}
